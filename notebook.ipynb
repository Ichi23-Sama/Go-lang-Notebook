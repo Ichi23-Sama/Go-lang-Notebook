{
 "cells": [
  {
   "cell_type": "markdown",
   "metadata": {},
   "source": [
    "import \"fmt\"\n",
    "    - handle input and output\n",
    "\n",
    "// for single line comment\n",
    "/*...*/ for multiple lines comment"
   ]
  },
  {
   "cell_type": "markdown",
   "metadata": {},
   "source": [
    "---\n",
    "### Variable and Data Type\n",
    "| Data type | Description | Zero Value|\n",
    "|---|---|---|\n",
    "|bool| Logics value (True or false) | false|\n",
    "|int int8 int16 int 32 int64 <br> (uint uint8 uint16 uint32 uint64)| Non-decimal integers|0|\n",
    "|float32 float64| Decimal numbers| 0|\n",
    "|string| set of characters| \"\"|"
   ]
  },
  {
   "cell_type": "markdown",
   "metadata": {},
   "source": [
    "---\n",
    "### 2 ways to Declare variable\n",
    "\n",
    "> **Standard Declaration** <br>\n",
    "    Description: User specify the type of variable created <br>\n",
    "    `var name string = \"James\"` <br>\n",
    "\n",
    "> **Type Inference**  <br>\n",
    "    Description: Type of variable is inferred from the value inserted into the variable <br>\n",
    "    `name := \"John\"`<br>\n",
    "\n",
    "> **Constant Variable** <br>\n",
    "    - Cannot be changed <br>\n",
    "    - `const name string = \"Ichi\"`\n",
    "\n",
    "> **Changeable Variable** <br>\n",
    "    - Can be changed <br>\n",
    "    - `var name = \"Ichi\"`\n"
   ]
  },
  {
   "cell_type": "markdown",
   "metadata": {},
   "source": [
    "```\n",
    "\tpackage main\n",
    "\n",
    "\timport \"fmt\"\n",
    "\n",
    "\tfunc main() {\n",
    "\t\tvar name string = \"Ichi\"\n",
    "\t\tvar score float32 = 95.3\n",
    "\t\tfmt.Println(\"Good morning\", name+\"!\")\n",
    "\t\tfmt.Println(\"Well Done for getting\", score, \"%!\")\n",
    "\t\tvar isPass bool\n",
    "\t\tif score > 50 {\n",
    "\t\t\tisPass = true\n",
    "\t\t} else {\n",
    "\t\t\tisPass = false\n",
    "\t\t}\n",
    "\t\tfmt.Println(\"Your passing status:\", isPass)\n",
    "\t}\n",
    "```"
   ]
  },
  {
   "cell_type": "markdown",
   "metadata": {},
   "source": [
    "---\n"
   ]
  }
 ],
 "metadata": {
  "kernelspec": {
   "display_name": "Python 3",
   "language": "python",
   "name": "python3"
  },
  "language_info": {
   "name": "python",
   "version": "3.12.0"
  }
 },
 "nbformat": 4,
 "nbformat_minor": 2
}
